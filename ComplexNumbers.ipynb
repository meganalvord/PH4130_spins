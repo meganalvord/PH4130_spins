{
 "cells": [
  {
   "cell_type": "markdown",
   "id": "5b40dccf-e4c3-48ee-9dd8-fef7ffc02063",
   "metadata": {},
   "source": [
    "# Python can handle complex numbers\n",
    "\n",
    "The models in quantum mechanics require the use of **complex numbers**. These are numbers that involve $j = \\sqrt{-1}$, which your students might have seen previously in a mathematics course. (You and your students likely used $i$ instead of $j$, but Python uses `j` becuase it is an engineering convention, so we'll keep this worksheet consistent by using $j$.) If you haven't worked with complex numbers in a while, the links below will help you refresh on the topic, but here are the basics:\n",
    "\n",
    "* A **complex number** $z$ can be written as $z = x + jy$. We call $x$ the **real part** of $z$ and $y$ the **imaginary part** of $z$.\n",
    "* Two complex numbers are equal if and only if their real parts are equal and their imaginary parts are equal. So, if $z_1 = z_2$, then $x_1 = x_2$ and $y_1 = y_2$.\n",
    "* Every complex number $z$ has a **complex conjugate**. The complex conjugate $z^*$ is the number with an equal real part and an imaginary part equal in magnitude but opposite in sign. The complex conjugate of $z = x + jy$ is $z^* = x - j y$.\n",
    "* Every complex number has a **modulus** $|z|$, defined as $|z| = \\sqrt{z^* z}$, which is equivalent to $|z| = \\sqrt{(x + jy)(x-jy)}$ or  $|z| = \\sqrt{x^2 + y^2}$. If you notice that this looks like the Pythagorean theorem, it's because this **is** the Pythagorean theorem! Complex numbers map perfectly onto two-dimensional vectors, and $|z|$ represents the magnitude, or distance, from the origin of the complex plane.\n",
    "\n",
    "This tutorial from [MathBitsNotebook.com](https://mathbitsnotebook.com/Algebra2/ComplexNumbers/CPGraphs.html) reviews graphical representations of complex numbers on the complex plane.\n",
    "\n",
    "Python knows how to handle complex numbers. Read and run the code below to learn how."
   ]
  },
  {
   "cell_type": "code",
   "execution_count": null,
   "id": "d0119f7f-9d60-4250-9ea2-44ba0ed11a68",
   "metadata": {},
   "outputs": [],
   "source": [
    "import numpy as np # Import the library that can handle complex number operations.\n",
    "\n",
    "# You can set a complex number like so:\n",
    "z = 3-2j # Notice there's no multiplication asterisk between the imaginary part and the j.\n",
    "print('What does a complex number look like?',z)\n",
    "\n",
    "# Now try some operations.\n",
    "z1 = 1+1j\n",
    "z2 = 1-2j\n",
    "print('addition:',z1+z2)\n",
    "print('subtraction:',z1-z2)\n",
    "print('multiplication:',z1*z2)\n",
    "print('real part',np.real(z1))\n",
    "print('imaginary part',np.imag(z1))\n",
    "print('complex conjuage',np.conj(z1))\n",
    "print('modulus',np.abs(z1))\n"
   ]
  },
  {
   "cell_type": "markdown",
   "id": "a651611a-6f07-4830-aca0-1f8df8c830b2",
   "metadata": {},
   "source": [
    "Carry out the operations above by hand, and confirm you arrive at the same results. For the multiplication step, just distribute one binomial to each part of the other binomial and remember that  j2=−1 !\n",
    "\n",
    "Change the values of  z1  and  z2  to accomplish each of the following:\n",
    "\n",
    "Create a pair of complex numbers that have a sum of  8  and a difference of  2j .\n",
    "Create a pair of complex numbers that have a sum of  8  and a product of  20 .\n",
    "Create a pair of complex numbers that have the same modulus and a sum of  2j ."
   ]
  },
  {
   "cell_type": "code",
   "execution_count": null,
   "id": "79739ccc-c569-497d-84e1-b0bd78fdf181",
   "metadata": {},
   "outputs": [],
   "source": []
  }
 ],
 "metadata": {
  "kernelspec": {
   "display_name": "Python 3 (ipykernel)",
   "language": "python",
   "name": "python3"
  },
  "language_info": {
   "codemirror_mode": {
    "name": "ipython",
    "version": 3
   },
   "file_extension": ".py",
   "mimetype": "text/x-python",
   "name": "python",
   "nbconvert_exporter": "python",
   "pygments_lexer": "ipython3",
   "version": "3.10.5"
  }
 },
 "nbformat": 4,
 "nbformat_minor": 5
}
